{
  "nbformat": 4,
  "nbformat_minor": 0,
  "metadata": {
    "colab": {
      "provenance": []
    },
    "kernelspec": {
      "name": "python3",
      "display_name": "Python 3"
    },
    "language_info": {
      "name": "python"
    }
  },
  "cells": [
    {
      "cell_type": "markdown",
      "source": [
        "* 회귀 및 릿지 모델\n",
        "    - 타겟이 연속변수일 경우 표준화 데이터셋 Regression 모델"
      ],
      "metadata": {
        "id": "pQG5YUjjpW-y"
      }
    },
    {
      "cell_type": "code",
      "execution_count": null,
      "metadata": {
        "id": "c8KGidATmovz",
        "colab": {
          "base_uri": "https://localhost:8080/"
        },
        "outputId": "52e865a0-f97e-49bc-afe2-b3f9cccc1a2d"
      },
      "outputs": [
        {
          "output_type": "stream",
          "name": "stdout",
          "text": [
            "Drive already mounted at /content/drive; to attempt to forcibly remount, call drive.mount(\"/content/drive\", force_remount=True).\n"
          ]
        }
      ],
      "source": [
        "from google.colab import drive\n",
        "drive.mount('/content/drive')"
      ]
    },
    {
      "cell_type": "code",
      "source": [
        "import pandas as pd\n",
        "import numpy as np\n",
        "\n",
        "df = pd.read_csv('/content/drive/MyDrive/Colab Notebooks/dataset/house-standard-VALP.csv')\n",
        "df.shape"
      ],
      "metadata": {
        "colab": {
          "base_uri": "https://localhost:8080/"
        },
        "id": "zO94SAYqqEA7",
        "outputId": "9d39736f-fd68-4a8f-bfc7-0c9e0cb078c6"
      },
      "execution_count": null,
      "outputs": [
        {
          "output_type": "execute_result",
          "data": {
            "text/plain": [
              "(20495, 93)"
            ]
          },
          "metadata": {},
          "execution_count": 5
        }
      ]
    },
    {
      "cell_type": "code",
      "source": [
        "df"
      ],
      "metadata": {
        "colab": {
          "base_uri": "https://localhost:8080/",
          "height": 424
        },
        "id": "QaGAWoMlqyxd",
        "outputId": "6f18918f-ef87-4979-9638-df4a901db58c"
      },
      "execution_count": null,
      "outputs": [
        {
          "output_type": "execute_result",
          "data": {
            "text/plain": [
              "           AGEP      BDSP      ELEP      GASP     HINCP       NRC      RMSP  \\\n",
              "0      1.277527 -0.185587 -0.218278 -0.030785 -0.857357 -0.757285 -0.779457   \n",
              "1      0.115555 -0.185587  1.548888 -1.029228  0.537778 -0.757285 -0.261327   \n",
              "2      0.074056 -0.185587  1.548888 -1.029228  0.537778 -0.757285 -0.261327   \n",
              "3      0.945535 -0.185587 -0.975635 -0.243219 -0.564886 -0.757285 -0.261327   \n",
              "4      0.987034 -0.185587  0.286627  2.093563  0.048701 -0.757285  0.256802   \n",
              "...         ...       ...       ...       ...       ...       ...       ...   \n",
              "20490  1.319026 -1.503998 -0.849409 -0.030785 -1.264597 -0.757285 -1.297586   \n",
              "20491  0.489046 -2.822409 -0.849409  2.093563 -1.215884 -0.757285 -1.815716   \n",
              "20492  0.489046 -0.185587  1.170210  2.730868 -0.455964 -0.757285 -0.779457   \n",
              "20493  0.945535 -0.185587  1.170210  2.730868 -0.455964 -0.757285 -0.779457   \n",
              "20494 -0.091940 -0.185587  1.170210  2.730868 -0.455964 -0.757285 -0.779457   \n",
              "\n",
              "           VALP  BATH  FESRP  ...  SCHL_16  SCHL_17  SCHL_18  SCHL_19  \\\n",
              "0      0.401699   1.0      0  ...        0        0        0        0   \n",
              "1      6.192561   1.0      0  ...        1        0        0        0   \n",
              "2      6.192561   1.0      0  ...        1        0        0        0   \n",
              "3     -0.578293   1.0      0  ...        0        0        1        0   \n",
              "4     -0.043752   1.0      0  ...        0        0        0        0   \n",
              "...         ...   ...    ...  ...      ...      ...      ...      ...   \n",
              "20490 -1.157379   1.0      0  ...        0        1        0        0   \n",
              "20491 -1.273196   1.0      0  ...        1        0        0        0   \n",
              "20492 -0.043752   1.0      0  ...        0        0        0        0   \n",
              "20493 -0.043752   1.0      0  ...        0        0        0        0   \n",
              "20494 -0.043752   1.0      0  ...        1        0        0        0   \n",
              "\n",
              "       SCHL_20  SCHL_21  SCHL_22  SCHL_23  SCHL_24  SEX_2  \n",
              "0            0        1        0        0        0      1  \n",
              "1            0        0        0        0        0      1  \n",
              "2            0        0        0        0        0      0  \n",
              "3            0        0        0        0        0      0  \n",
              "4            0        0        1        0        0      0  \n",
              "...        ...      ...      ...      ...      ...    ...  \n",
              "20490        0        0        0        0        0      1  \n",
              "20491        0        0        0        0        0      0  \n",
              "20492        0        1        0        0        0      1  \n",
              "20493        0        1        0        0        0      0  \n",
              "20494        0        0        0        0        0      0  \n",
              "\n",
              "[20495 rows x 93 columns]"
            ],
            "text/html": [
              "\n",
              "\n",
              "  <div id=\"df-91f60031-a5fb-4998-a493-6260d63e80cf\">\n",
              "    <div class=\"colab-df-container\">\n",
              "      <div>\n",
              "<style scoped>\n",
              "    .dataframe tbody tr th:only-of-type {\n",
              "        vertical-align: middle;\n",
              "    }\n",
              "\n",
              "    .dataframe tbody tr th {\n",
              "        vertical-align: top;\n",
              "    }\n",
              "\n",
              "    .dataframe thead th {\n",
              "        text-align: right;\n",
              "    }\n",
              "</style>\n",
              "<table border=\"1\" class=\"dataframe\">\n",
              "  <thead>\n",
              "    <tr style=\"text-align: right;\">\n",
              "      <th></th>\n",
              "      <th>AGEP</th>\n",
              "      <th>BDSP</th>\n",
              "      <th>ELEP</th>\n",
              "      <th>GASP</th>\n",
              "      <th>HINCP</th>\n",
              "      <th>NRC</th>\n",
              "      <th>RMSP</th>\n",
              "      <th>VALP</th>\n",
              "      <th>BATH</th>\n",
              "      <th>FESRP</th>\n",
              "      <th>...</th>\n",
              "      <th>SCHL_16</th>\n",
              "      <th>SCHL_17</th>\n",
              "      <th>SCHL_18</th>\n",
              "      <th>SCHL_19</th>\n",
              "      <th>SCHL_20</th>\n",
              "      <th>SCHL_21</th>\n",
              "      <th>SCHL_22</th>\n",
              "      <th>SCHL_23</th>\n",
              "      <th>SCHL_24</th>\n",
              "      <th>SEX_2</th>\n",
              "    </tr>\n",
              "  </thead>\n",
              "  <tbody>\n",
              "    <tr>\n",
              "      <th>0</th>\n",
              "      <td>1.277527</td>\n",
              "      <td>-0.185587</td>\n",
              "      <td>-0.218278</td>\n",
              "      <td>-0.030785</td>\n",
              "      <td>-0.857357</td>\n",
              "      <td>-0.757285</td>\n",
              "      <td>-0.779457</td>\n",
              "      <td>0.401699</td>\n",
              "      <td>1.0</td>\n",
              "      <td>0</td>\n",
              "      <td>...</td>\n",
              "      <td>0</td>\n",
              "      <td>0</td>\n",
              "      <td>0</td>\n",
              "      <td>0</td>\n",
              "      <td>0</td>\n",
              "      <td>1</td>\n",
              "      <td>0</td>\n",
              "      <td>0</td>\n",
              "      <td>0</td>\n",
              "      <td>1</td>\n",
              "    </tr>\n",
              "    <tr>\n",
              "      <th>1</th>\n",
              "      <td>0.115555</td>\n",
              "      <td>-0.185587</td>\n",
              "      <td>1.548888</td>\n",
              "      <td>-1.029228</td>\n",
              "      <td>0.537778</td>\n",
              "      <td>-0.757285</td>\n",
              "      <td>-0.261327</td>\n",
              "      <td>6.192561</td>\n",
              "      <td>1.0</td>\n",
              "      <td>0</td>\n",
              "      <td>...</td>\n",
              "      <td>1</td>\n",
              "      <td>0</td>\n",
              "      <td>0</td>\n",
              "      <td>0</td>\n",
              "      <td>0</td>\n",
              "      <td>0</td>\n",
              "      <td>0</td>\n",
              "      <td>0</td>\n",
              "      <td>0</td>\n",
              "      <td>1</td>\n",
              "    </tr>\n",
              "    <tr>\n",
              "      <th>2</th>\n",
              "      <td>0.074056</td>\n",
              "      <td>-0.185587</td>\n",
              "      <td>1.548888</td>\n",
              "      <td>-1.029228</td>\n",
              "      <td>0.537778</td>\n",
              "      <td>-0.757285</td>\n",
              "      <td>-0.261327</td>\n",
              "      <td>6.192561</td>\n",
              "      <td>1.0</td>\n",
              "      <td>0</td>\n",
              "      <td>...</td>\n",
              "      <td>1</td>\n",
              "      <td>0</td>\n",
              "      <td>0</td>\n",
              "      <td>0</td>\n",
              "      <td>0</td>\n",
              "      <td>0</td>\n",
              "      <td>0</td>\n",
              "      <td>0</td>\n",
              "      <td>0</td>\n",
              "      <td>0</td>\n",
              "    </tr>\n",
              "    <tr>\n",
              "      <th>3</th>\n",
              "      <td>0.945535</td>\n",
              "      <td>-0.185587</td>\n",
              "      <td>-0.975635</td>\n",
              "      <td>-0.243219</td>\n",
              "      <td>-0.564886</td>\n",
              "      <td>-0.757285</td>\n",
              "      <td>-0.261327</td>\n",
              "      <td>-0.578293</td>\n",
              "      <td>1.0</td>\n",
              "      <td>0</td>\n",
              "      <td>...</td>\n",
              "      <td>0</td>\n",
              "      <td>0</td>\n",
              "      <td>1</td>\n",
              "      <td>0</td>\n",
              "      <td>0</td>\n",
              "      <td>0</td>\n",
              "      <td>0</td>\n",
              "      <td>0</td>\n",
              "      <td>0</td>\n",
              "      <td>0</td>\n",
              "    </tr>\n",
              "    <tr>\n",
              "      <th>4</th>\n",
              "      <td>0.987034</td>\n",
              "      <td>-0.185587</td>\n",
              "      <td>0.286627</td>\n",
              "      <td>2.093563</td>\n",
              "      <td>0.048701</td>\n",
              "      <td>-0.757285</td>\n",
              "      <td>0.256802</td>\n",
              "      <td>-0.043752</td>\n",
              "      <td>1.0</td>\n",
              "      <td>0</td>\n",
              "      <td>...</td>\n",
              "      <td>0</td>\n",
              "      <td>0</td>\n",
              "      <td>0</td>\n",
              "      <td>0</td>\n",
              "      <td>0</td>\n",
              "      <td>0</td>\n",
              "      <td>1</td>\n",
              "      <td>0</td>\n",
              "      <td>0</td>\n",
              "      <td>0</td>\n",
              "    </tr>\n",
              "    <tr>\n",
              "      <th>...</th>\n",
              "      <td>...</td>\n",
              "      <td>...</td>\n",
              "      <td>...</td>\n",
              "      <td>...</td>\n",
              "      <td>...</td>\n",
              "      <td>...</td>\n",
              "      <td>...</td>\n",
              "      <td>...</td>\n",
              "      <td>...</td>\n",
              "      <td>...</td>\n",
              "      <td>...</td>\n",
              "      <td>...</td>\n",
              "      <td>...</td>\n",
              "      <td>...</td>\n",
              "      <td>...</td>\n",
              "      <td>...</td>\n",
              "      <td>...</td>\n",
              "      <td>...</td>\n",
              "      <td>...</td>\n",
              "      <td>...</td>\n",
              "      <td>...</td>\n",
              "    </tr>\n",
              "    <tr>\n",
              "      <th>20490</th>\n",
              "      <td>1.319026</td>\n",
              "      <td>-1.503998</td>\n",
              "      <td>-0.849409</td>\n",
              "      <td>-0.030785</td>\n",
              "      <td>-1.264597</td>\n",
              "      <td>-0.757285</td>\n",
              "      <td>-1.297586</td>\n",
              "      <td>-1.157379</td>\n",
              "      <td>1.0</td>\n",
              "      <td>0</td>\n",
              "      <td>...</td>\n",
              "      <td>0</td>\n",
              "      <td>1</td>\n",
              "      <td>0</td>\n",
              "      <td>0</td>\n",
              "      <td>0</td>\n",
              "      <td>0</td>\n",
              "      <td>0</td>\n",
              "      <td>0</td>\n",
              "      <td>0</td>\n",
              "      <td>1</td>\n",
              "    </tr>\n",
              "    <tr>\n",
              "      <th>20491</th>\n",
              "      <td>0.489046</td>\n",
              "      <td>-2.822409</td>\n",
              "      <td>-0.849409</td>\n",
              "      <td>2.093563</td>\n",
              "      <td>-1.215884</td>\n",
              "      <td>-0.757285</td>\n",
              "      <td>-1.815716</td>\n",
              "      <td>-1.273196</td>\n",
              "      <td>1.0</td>\n",
              "      <td>0</td>\n",
              "      <td>...</td>\n",
              "      <td>1</td>\n",
              "      <td>0</td>\n",
              "      <td>0</td>\n",
              "      <td>0</td>\n",
              "      <td>0</td>\n",
              "      <td>0</td>\n",
              "      <td>0</td>\n",
              "      <td>0</td>\n",
              "      <td>0</td>\n",
              "      <td>0</td>\n",
              "    </tr>\n",
              "    <tr>\n",
              "      <th>20492</th>\n",
              "      <td>0.489046</td>\n",
              "      <td>-0.185587</td>\n",
              "      <td>1.170210</td>\n",
              "      <td>2.730868</td>\n",
              "      <td>-0.455964</td>\n",
              "      <td>-0.757285</td>\n",
              "      <td>-0.779457</td>\n",
              "      <td>-0.043752</td>\n",
              "      <td>1.0</td>\n",
              "      <td>0</td>\n",
              "      <td>...</td>\n",
              "      <td>0</td>\n",
              "      <td>0</td>\n",
              "      <td>0</td>\n",
              "      <td>0</td>\n",
              "      <td>0</td>\n",
              "      <td>1</td>\n",
              "      <td>0</td>\n",
              "      <td>0</td>\n",
              "      <td>0</td>\n",
              "      <td>1</td>\n",
              "    </tr>\n",
              "    <tr>\n",
              "      <th>20493</th>\n",
              "      <td>0.945535</td>\n",
              "      <td>-0.185587</td>\n",
              "      <td>1.170210</td>\n",
              "      <td>2.730868</td>\n",
              "      <td>-0.455964</td>\n",
              "      <td>-0.757285</td>\n",
              "      <td>-0.779457</td>\n",
              "      <td>-0.043752</td>\n",
              "      <td>1.0</td>\n",
              "      <td>0</td>\n",
              "      <td>...</td>\n",
              "      <td>0</td>\n",
              "      <td>0</td>\n",
              "      <td>0</td>\n",
              "      <td>0</td>\n",
              "      <td>0</td>\n",
              "      <td>1</td>\n",
              "      <td>0</td>\n",
              "      <td>0</td>\n",
              "      <td>0</td>\n",
              "      <td>0</td>\n",
              "    </tr>\n",
              "    <tr>\n",
              "      <th>20494</th>\n",
              "      <td>-0.091940</td>\n",
              "      <td>-0.185587</td>\n",
              "      <td>1.170210</td>\n",
              "      <td>2.730868</td>\n",
              "      <td>-0.455964</td>\n",
              "      <td>-0.757285</td>\n",
              "      <td>-0.779457</td>\n",
              "      <td>-0.043752</td>\n",
              "      <td>1.0</td>\n",
              "      <td>0</td>\n",
              "      <td>...</td>\n",
              "      <td>1</td>\n",
              "      <td>0</td>\n",
              "      <td>0</td>\n",
              "      <td>0</td>\n",
              "      <td>0</td>\n",
              "      <td>0</td>\n",
              "      <td>0</td>\n",
              "      <td>0</td>\n",
              "      <td>0</td>\n",
              "      <td>0</td>\n",
              "    </tr>\n",
              "  </tbody>\n",
              "</table>\n",
              "<p>20495 rows × 93 columns</p>\n",
              "</div>\n",
              "      <button class=\"colab-df-convert\" onclick=\"convertToInteractive('df-91f60031-a5fb-4998-a493-6260d63e80cf')\"\n",
              "              title=\"Convert this dataframe to an interactive table.\"\n",
              "              style=\"display:none;\">\n",
              "\n",
              "  <svg xmlns=\"http://www.w3.org/2000/svg\" height=\"24px\"viewBox=\"0 0 24 24\"\n",
              "       width=\"24px\">\n",
              "    <path d=\"M0 0h24v24H0V0z\" fill=\"none\"/>\n",
              "    <path d=\"M18.56 5.44l.94 2.06.94-2.06 2.06-.94-2.06-.94-.94-2.06-.94 2.06-2.06.94zm-11 1L8.5 8.5l.94-2.06 2.06-.94-2.06-.94L8.5 2.5l-.94 2.06-2.06.94zm10 10l.94 2.06.94-2.06 2.06-.94-2.06-.94-.94-2.06-.94 2.06-2.06.94z\"/><path d=\"M17.41 7.96l-1.37-1.37c-.4-.4-.92-.59-1.43-.59-.52 0-1.04.2-1.43.59L10.3 9.45l-7.72 7.72c-.78.78-.78 2.05 0 2.83L4 21.41c.39.39.9.59 1.41.59.51 0 1.02-.2 1.41-.59l7.78-7.78 2.81-2.81c.8-.78.8-2.07 0-2.86zM5.41 20L4 18.59l7.72-7.72 1.47 1.35L5.41 20z\"/>\n",
              "  </svg>\n",
              "      </button>\n",
              "\n",
              "\n",
              "\n",
              "    <div id=\"df-021b5726-c824-430e-9b19-2b72f9e42875\">\n",
              "      <button class=\"colab-df-quickchart\" onclick=\"quickchart('df-021b5726-c824-430e-9b19-2b72f9e42875')\"\n",
              "              title=\"Suggest charts.\"\n",
              "              style=\"display:none;\">\n",
              "\n",
              "<svg xmlns=\"http://www.w3.org/2000/svg\" height=\"24px\"viewBox=\"0 0 24 24\"\n",
              "     width=\"24px\">\n",
              "    <g>\n",
              "        <path d=\"M19 3H5c-1.1 0-2 .9-2 2v14c0 1.1.9 2 2 2h14c1.1 0 2-.9 2-2V5c0-1.1-.9-2-2-2zM9 17H7v-7h2v7zm4 0h-2V7h2v10zm4 0h-2v-4h2v4z\"/>\n",
              "    </g>\n",
              "</svg>\n",
              "      </button>\n",
              "    </div>\n",
              "\n",
              "<style>\n",
              "  .colab-df-quickchart {\n",
              "    background-color: #E8F0FE;\n",
              "    border: none;\n",
              "    border-radius: 50%;\n",
              "    cursor: pointer;\n",
              "    display: none;\n",
              "    fill: #1967D2;\n",
              "    height: 32px;\n",
              "    padding: 0 0 0 0;\n",
              "    width: 32px;\n",
              "  }\n",
              "\n",
              "  .colab-df-quickchart:hover {\n",
              "    background-color: #E2EBFA;\n",
              "    box-shadow: 0px 1px 2px rgba(60, 64, 67, 0.3), 0px 1px 3px 1px rgba(60, 64, 67, 0.15);\n",
              "    fill: #174EA6;\n",
              "  }\n",
              "\n",
              "  [theme=dark] .colab-df-quickchart {\n",
              "    background-color: #3B4455;\n",
              "    fill: #D2E3FC;\n",
              "  }\n",
              "\n",
              "  [theme=dark] .colab-df-quickchart:hover {\n",
              "    background-color: #434B5C;\n",
              "    box-shadow: 0px 1px 3px 1px rgba(0, 0, 0, 0.15);\n",
              "    filter: drop-shadow(0px 1px 2px rgba(0, 0, 0, 0.3));\n",
              "    fill: #FFFFFF;\n",
              "  }\n",
              "</style>\n",
              "\n",
              "    <script>\n",
              "      async function quickchart(key) {\n",
              "        const containerElement = document.querySelector('#' + key);\n",
              "        const charts = await google.colab.kernel.invokeFunction(\n",
              "            'suggestCharts', [key], {});\n",
              "      }\n",
              "    </script>\n",
              "\n",
              "      <script>\n",
              "\n",
              "function displayQuickchartButton(domScope) {\n",
              "  let quickchartButtonEl =\n",
              "    domScope.querySelector('#df-021b5726-c824-430e-9b19-2b72f9e42875 button.colab-df-quickchart');\n",
              "  quickchartButtonEl.style.display =\n",
              "    google.colab.kernel.accessAllowed ? 'block' : 'none';\n",
              "}\n",
              "\n",
              "        displayQuickchartButton(document);\n",
              "      </script>\n",
              "      <style>\n",
              "    .colab-df-container {\n",
              "      display:flex;\n",
              "      flex-wrap:wrap;\n",
              "      gap: 12px;\n",
              "    }\n",
              "\n",
              "    .colab-df-convert {\n",
              "      background-color: #E8F0FE;\n",
              "      border: none;\n",
              "      border-radius: 50%;\n",
              "      cursor: pointer;\n",
              "      display: none;\n",
              "      fill: #1967D2;\n",
              "      height: 32px;\n",
              "      padding: 0 0 0 0;\n",
              "      width: 32px;\n",
              "    }\n",
              "\n",
              "    .colab-df-convert:hover {\n",
              "      background-color: #E2EBFA;\n",
              "      box-shadow: 0px 1px 2px rgba(60, 64, 67, 0.3), 0px 1px 3px 1px rgba(60, 64, 67, 0.15);\n",
              "      fill: #174EA6;\n",
              "    }\n",
              "\n",
              "    [theme=dark] .colab-df-convert {\n",
              "      background-color: #3B4455;\n",
              "      fill: #D2E3FC;\n",
              "    }\n",
              "\n",
              "    [theme=dark] .colab-df-convert:hover {\n",
              "      background-color: #434B5C;\n",
              "      box-shadow: 0px 1px 3px 1px rgba(0, 0, 0, 0.15);\n",
              "      filter: drop-shadow(0px 1px 2px rgba(0, 0, 0, 0.3));\n",
              "      fill: #FFFFFF;\n",
              "    }\n",
              "  </style>\n",
              "\n",
              "      <script>\n",
              "        const buttonEl =\n",
              "          document.querySelector('#df-91f60031-a5fb-4998-a493-6260d63e80cf button.colab-df-convert');\n",
              "        buttonEl.style.display =\n",
              "          google.colab.kernel.accessAllowed ? 'block' : 'none';\n",
              "\n",
              "        async function convertToInteractive(key) {\n",
              "          const element = document.querySelector('#df-91f60031-a5fb-4998-a493-6260d63e80cf');\n",
              "          const dataTable =\n",
              "            await google.colab.kernel.invokeFunction('convertToInteractive',\n",
              "                                                     [key], {});\n",
              "          if (!dataTable) return;\n",
              "\n",
              "          const docLinkHtml = 'Like what you see? Visit the ' +\n",
              "            '<a target=\"_blank\" href=https://colab.research.google.com/notebooks/data_table.ipynb>data table notebook</a>'\n",
              "            + ' to learn more about interactive tables.';\n",
              "          element.innerHTML = '';\n",
              "          dataTable['output_type'] = 'display_data';\n",
              "          await google.colab.output.renderOutput(dataTable, element);\n",
              "          const docLink = document.createElement('div');\n",
              "          docLink.innerHTML = docLinkHtml;\n",
              "          element.appendChild(docLink);\n",
              "        }\n",
              "      </script>\n",
              "    </div>\n",
              "  </div>\n"
            ]
          },
          "metadata": {},
          "execution_count": 6
        }
      ]
    },
    {
      "cell_type": "markdown",
      "source": [
        "# 타겟변수를 제외한 입력변수를 data에 저장하기"
      ],
      "metadata": {
        "id": "c7VOhZ9hrD5p"
      }
    },
    {
      "cell_type": "markdown",
      "source": [
        "    - VALP를 제외한 나머지를 독립변수(입력변수)로 사용\n",
        "    - VALP는 종속변수(타겟변수)"
      ],
      "metadata": {
        "id": "Pnc-FpkgrjMw"
      }
    },
    {
      "cell_type": "code",
      "source": [
        "data = df.drop(['VALP'], axis = 1)\n",
        "target = df['VALP']\n",
        "\n",
        "from sklearn.model_selection import train_test_split\n",
        "\n",
        "X_train, X_test, Y_train, Y_test = train_test_split(\n",
        "    data, target, test_size = 0.5, random_state = 42\n",
        ")\n",
        "\n",
        "print(\"X_train shape : \", X_train.shape)\n",
        "print(\"X_test shape : \", X_test.shape)"
      ],
      "metadata": {
        "colab": {
          "base_uri": "https://localhost:8080/"
        },
        "id": "b1Yc1MoBq1q5",
        "outputId": "6f62c3b1-b4ba-4a1e-91c1-46dd47a5c339"
      },
      "execution_count": null,
      "outputs": [
        {
          "output_type": "stream",
          "name": "stdout",
          "text": [
            "X_train shape :  (10247, 92)\n",
            "X_test shape :  (10248, 92)\n"
          ]
        }
      ]
    },
    {
      "cell_type": "markdown",
      "source": [
        "# 타겟변수가 연속변수일 경우, Linear Regression 모델"
      ],
      "metadata": {
        "id": "DXwTYx6frYA5"
      }
    },
    {
      "cell_type": "code",
      "source": [
        "from sklearn.linear_model import LinearRegression\n",
        "from sklearn.metrics import r2_score\n",
        "\n",
        "linr = LinearRegression(n_jobs = -1)\n",
        "model = linr.fit(X_train, Y_train)\n",
        "pred = model.predict(X_test)\n",
        "\n",
        "print(\"Linear Regression Training set r2 score : {: .5f} \".format(model.score(X_train, Y_train)))\n",
        "print(\"    Linear Regression Test set r2 score : {: .5f} \".format(r2_score(Y_test, pred)))"
      ],
      "metadata": {
        "colab": {
          "base_uri": "https://localhost:8080/"
        },
        "id": "yfJ_ipOfrYtX",
        "outputId": "d84eb3f0-ffec-4bb5-980d-dd922c5630ce"
      },
      "execution_count": null,
      "outputs": [
        {
          "output_type": "stream",
          "name": "stdout",
          "text": [
            "Linear Regression Training set r2 score :  0.34319 \n",
            "    Linear Regression Test set r2 score :  0.33329 \n"
          ]
        }
      ]
    },
    {
      "cell_type": "markdown",
      "source": [
        "# 타겟변수가 연속변수일 경우, 표준화 데이터셋 Ridge 모델"
      ],
      "metadata": {
        "id": "dRVoPGihzZe2"
      }
    },
    {
      "cell_type": "code",
      "source": [
        "from sklearn.linear_model import Ridge\n",
        "Ridge = Ridge()\n",
        "model = Ridge.fit(X_train, Y_train)\n",
        "pred = model.predict(X_test)\n",
        "\n",
        "print(\"Linear Regression Training set score : {: .5f}\".format(model.score(X_train, Y_train)))\n",
        "print(\"    Linear Regression Test set score : {: .5f}\".format(r2_score(Y_test, pred)))"
      ],
      "metadata": {
        "colab": {
          "base_uri": "https://localhost:8080/"
        },
        "id": "fT-3BdQtvLG7",
        "outputId": "fd77221b-40fa-4e19-aef2-1a13fffd3fc3"
      },
      "execution_count": null,
      "outputs": [
        {
          "output_type": "stream",
          "name": "stdout",
          "text": [
            "Linear Regression Training set score :  0.34405\n",
            "    Linear Regression Test set score :  0.33379\n"
          ]
        }
      ]
    },
    {
      "cell_type": "markdown",
      "source": [
        "# 그리드 서치 실행\n",
        "\n",
        "#alpha:\n",
        "#solver:"
      ],
      "metadata": {
        "id": "Y0ToJmryLYiW"
      }
    },
    {
      "cell_type": "code",
      "source": [
        "from sklearn.model_selection import GridSearchCV\n",
        "from sklearn.linear_model import Ridge\n",
        "\n",
        "clf_Ridge = Ridge()\n",
        "\n",
        "params = {'alpha': [ 0.001,0.01, 1 , 10, 100, 1000],\n",
        "          'solver': [ 'auto', 'svd', 'lsqr', 'cholesky', 'sparse_cg', 'sag', 'saga', 'lbfgs']}\n",
        "\n",
        "grid_Ridge = GridSearchCV(clf_Ridge, param_grid=params, scoring = 'r2', cv = 5 ,n_jobs = -1, verbose = 1)\n",
        "grid_Ridge.fit(X_train,Y_train)\n",
        "\n",
        "print(\"GridSearchCV max score: {: .5f}\".format(grid_Ridge.best_score_))\n",
        "print(\"GridSearchCV best parameter: \",grid_Ridge.best_params_)"
      ],
      "metadata": {
        "id": "a-d4mTEZ0NM4",
        "colab": {
          "base_uri": "https://localhost:8080/"
        },
        "outputId": "b0641855-0fff-4a73-d64e-d32390287cea"
      },
      "execution_count": null,
      "outputs": [
        {
          "output_type": "stream",
          "name": "stdout",
          "text": [
            "Fitting 5 folds for each of 48 candidates, totalling 240 fits\n"
          ]
        },
        {
          "output_type": "stream",
          "name": "stderr",
          "text": [
            "/usr/local/lib/python3.10/dist-packages/sklearn/model_selection/_validation.py:378: FitFailedWarning: \n",
            "30 fits failed out of a total of 240.\n",
            "The score on these train-test partitions for these parameters will be set to nan.\n",
            "If these failures are not expected, you can try to debug them by setting error_score='raise'.\n",
            "\n",
            "Below are more details about the failures:\n",
            "--------------------------------------------------------------------------------\n",
            "30 fits failed with the following error:\n",
            "Traceback (most recent call last):\n",
            "  File \"/usr/local/lib/python3.10/dist-packages/sklearn/model_selection/_validation.py\", line 686, in _fit_and_score\n",
            "    estimator.fit(X_train, y_train, **fit_params)\n",
            "  File \"/usr/local/lib/python3.10/dist-packages/sklearn/linear_model/_ridge.py\", line 1134, in fit\n",
            "    return super().fit(X, y, sample_weight=sample_weight)\n",
            "  File \"/usr/local/lib/python3.10/dist-packages/sklearn/linear_model/_ridge.py\", line 825, in fit\n",
            "    raise ValueError(\n",
            "ValueError: 'lbfgs' solver can be used only when positive=True. Please use another solver.\n",
            "\n",
            "  warnings.warn(some_fits_failed_message, FitFailedWarning)\n",
            "/usr/local/lib/python3.10/dist-packages/sklearn/model_selection/_search.py:952: UserWarning: One or more of the test scores are non-finite: [0.33051397 0.33051397 0.3305053  0.33051397 0.33052636 0.33051595\n",
            " 0.33051919        nan 0.33051743 0.33051743 0.33050797 0.33051743\n",
            " 0.33053114 0.33051956 0.33052283        nan 0.33078908 0.33078908\n",
            " 0.33073825 0.33078908 0.33080892 0.33079064 0.33079214        nan\n",
            " 0.33139465 0.33139465 0.3313784  0.33139465 0.33139137 0.33139554\n",
            " 0.3313947         nan 0.32798663 0.32798663 0.3279948  0.32798663\n",
            " 0.32798421 0.32798684 0.32798589        nan 0.29929105 0.29929105\n",
            " 0.2992901  0.29929105 0.29929148 0.29929116 0.2992913         nan]\n",
            "  warnings.warn(\n"
          ]
        },
        {
          "output_type": "stream",
          "name": "stdout",
          "text": [
            "GridSearchCV max score:  0.33140\n",
            "GridSearchCV best parameter:  {'alpha': 10, 'solver': 'sag'}\n"
          ]
        }
      ]
    },
    {
      "cell_type": "code",
      "source": [
        "best_clf = grid_Ridge.best_estimator_\n",
        "pred = best_clf.predict(X_test)\n",
        "\n",
        "print(\"R2 Score on test set: {: .5f}\".format(best_clf.score(X_test,Y_test)))\n",
        "print(\"R2 Score on test set: {: .5f}\".format(r2_score(Y_test,pred)))"
      ],
      "metadata": {
        "colab": {
          "base_uri": "https://localhost:8080/"
        },
        "id": "aWW4tGhLOGAr",
        "outputId": "5c79c12a-7212-4e60-ae79-9a72ba1cb764"
      },
      "execution_count": null,
      "outputs": [
        {
          "output_type": "stream",
          "name": "stdout",
          "text": [
            "R2 Score on test set:  0.33413\n",
            "R2 Score on test set:  0.33413\n"
          ]
        }
      ]
    },
    {
      "cell_type": "code",
      "source": [
        "import seaborn as sns"
      ],
      "metadata": {
        "id": "a-c5udDUTiz1"
      },
      "execution_count": null,
      "outputs": []
    },
    {
      "cell_type": "code",
      "source": [
        "import seaborn as sns\n",
        "\n",
        "final_result = pd.concat([Y_test.reset_index(drop=True),pd.DataFrame(pred)], axis=1)\n",
        "final_result.columns = ['Y_test', 'pred']\n",
        "\n",
        "sns.regplot(x = 'Y_test', y = 'pred', data=final_result)"
      ],
      "metadata": {
        "colab": {
          "base_uri": "https://localhost:8080/",
          "height": 467
        },
        "id": "HWgZEcg_QyrF",
        "outputId": "64221252-cf42-46c1-ef1d-fc711792c01e"
      },
      "execution_count": null,
      "outputs": [
        {
          "output_type": "execute_result",
          "data": {
            "text/plain": [
              "<Axes: xlabel='Y_test', ylabel='pred'>"
            ]
          },
          "metadata": {},
          "execution_count": 43
        },
        {
          "output_type": "display_data",
          "data": {
            "text/plain": [
              "<Figure size 640x480 with 1 Axes>"
            ],
            "image/png": "[encoded data removed]"
          },
          "metadata": {}
        }
      ]
    },
    {
      "cell_type": "code",
      "source": [
        "from sklearn.linear_model import Lasso\n",
        "clf_Lasso = Lasso()\n",
        "\n",
        "model = clf_Lasso.fit(X_train,Y_train)\n",
        "pred = model.predict(X_test)\n",
        "\n",
        "\n",
        "print(\"Linear Regression Training set score: {: .5f}\".format(clf_Lasso.score(X_train,Y_train)))\n",
        "print(\"Linear Regression Test set score: {: .5f}\".format(r2_score(pred,Y_test)))"
      ],
      "metadata": {
        "colab": {
          "base_uri": "https://localhost:8080/"
        },
        "id": "gxXx3meoRfR8",
        "outputId": "86313fd8-3ac9-4638-ae4f-91170d2d77da"
      },
      "execution_count": null,
      "outputs": [
        {
          "output_type": "stream",
          "name": "stdout",
          "text": [
            "Linear Regression Training set score:  0.00000\n",
            "Linear Regression Test set score:  0.00000\n"
          ]
        }
      ]
    }
  ]
}